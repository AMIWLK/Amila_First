{
 "cells": [
  {
   "cell_type": "markdown",
   "id": "25fdbdc6-7023-4a88-a254-f399bc3e5fe4",
   "metadata": {},
   "source": [
    "# My Jupyter Notebook on IBM Watson Studio"
   ]
  },
  {
   "cell_type": "markdown",
   "id": "37ca19a1-0b40-46d2-886c-02a0b50ba5b0",
   "metadata": {},
   "source": [
    "**Amila Withanaarachchi**"
   ]
  },
  {
   "cell_type": "markdown",
   "id": "3e3402b5-6d6a-48df-9bd3-0c09e4a09917",
   "metadata": {},
   "source": [
    "Data Scientist"
   ]
  },
  {
   "cell_type": "markdown",
   "id": "54fcf33d-b0fb-40cf-a8fb-6a9915197055",
   "metadata": {},
   "source": [
    "*I am interested in data science because it enables me to work with data*"
   ]
  },
  {
   "cell_type": "markdown",
   "id": "9e5c6cea-7fc3-490c-a9c4-34645f1ffe33",
   "metadata": {},
   "source": [
    "### I am intending to add 10 and 20 in the next line of code"
   ]
  },
  {
   "cell_type": "code",
   "execution_count": 1,
   "id": "f91d3990-bab5-40b3-a2e3-42f1db1bf4c8",
   "metadata": {},
   "outputs": [
    {
     "data": {
      "text/plain": [
       "30"
      ]
     },
     "execution_count": 1,
     "metadata": {},
     "output_type": "execute_result"
    }
   ],
   "source": [
    "10 + 20 "
   ]
  },
  {
   "cell_type": "markdown",
   "id": "f7b264b2-b5b0-433c-b418-befc1ea90b0f",
   "metadata": {},
   "source": [
    "---"
   ]
  },
  {
   "cell_type": "markdown",
   "id": "a4d4370a-0c50-4e26-9f94-aab507daaa09",
   "metadata": {},
   "source": [
    "* One\n",
    "* Two\n",
    "* Three\n",
    "* Four\n",
    "* Five"
   ]
  },
  {
   "cell_type": "markdown",
   "id": "6e727acd-025c-4635-9653-d209af6288f3",
   "metadata": {},
   "source": [
    "1. One\n",
    "2. Two\n",
    "3. Three\n",
    "4. Four\n",
    "5. Five"
   ]
  },
  {
   "cell_type": "markdown",
   "id": "94ad2437-9d57-496f-af9e-2da13e1805f0",
   "metadata": {},
   "source": [
    "| Date | Time | Location |\n",
    "| ------ | ------ | ------ |\n",
    "| 23-12-2022 | 09.45 a.m. |London |\n",
    "| 25-12-2022 | 12.30 p.m. |Melbourne |\n",
    "| 28-12-2022 | 14.15 a.m. |Sydney |"
   ]
  },
  {
   "cell_type": "markdown",
   "id": "e9d8cab5-5a49-4cc7-8a93-88d6cfb709fa",
   "metadata": {},
   "source": [
    "> This is a blocked quotes that inserted within the text "
   ]
  },
  {
   "cell_type": "markdown",
   "id": "6568d2d5-5fb6-4d4d-949e-5fed0cad26af",
   "metadata": {},
   "source": [
    "~~This is a strikethrough~~"
   ]
  },
  {
   "cell_type": "code",
   "execution_count": null,
   "id": "667f3d62-0b60-4c9b-ba42-f0aa3c386297",
   "metadata": {},
   "outputs": [],
   "source": []
  }
 ],
 "metadata": {
  "kernelspec": {
   "display_name": "Python",
   "language": "python",
   "name": "conda-env-python-py"
  },
  "language_info": {
   "codemirror_mode": {
    "name": "ipython",
    "version": 3
   },
   "file_extension": ".py",
   "mimetype": "text/x-python",
   "name": "python",
   "nbconvert_exporter": "python",
   "pygments_lexer": "ipython3",
   "version": "3.7.12"
  }
 },
 "nbformat": 4,
 "nbformat_minor": 5
}
